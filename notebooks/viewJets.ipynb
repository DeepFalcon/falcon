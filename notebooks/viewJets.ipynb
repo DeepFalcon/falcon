{
 "cells": [
  {
   "cell_type": "markdown",
   "metadata": {},
   "source": [
    "# ViewJets\n",
    "A notebook that plots reco jets and parton jets in eta phi space."
   ]
  },
  {
   "cell_type": "code",
   "execution_count": 70,
   "metadata": {},
   "outputs": [],
   "source": [
    "import numpy as np\n",
    "import matplotlib.pyplot as plt\n",
    "from math import pi"
   ]
  },
  {
   "cell_type": "code",
   "execution_count": 83,
   "metadata": {},
   "outputs": [],
   "source": [
    "data = np.loadtxt(\"../data/jetInfo.txt\")"
   ]
  },
  {
   "cell_type": "code",
   "execution_count": 84,
   "metadata": {},
   "outputs": [
    {
     "name": "stdout",
     "output_type": "stream",
     "text": [
      "(205488, 6)\n"
     ]
    }
   ],
   "source": [
    "print(data.shape)"
   ]
  },
  {
   "cell_type": "markdown",
   "metadata": {},
   "source": [
    "Following cell will take the first event number, iterate through the array until it reaches an entry with a different event number, and plot every reco and gen jet with size proportional to transverse momentum. The index of the first entry with the next event number is printed, and you can put than in the i= spot to go through the next event. "
   ]
  },
  {
   "cell_type": "code",
   "execution_count": 103,
   "metadata": {},
   "outputs": [
    {
     "name": "stdout",
     "output_type": "stream",
     "text": [
      "Next starting index: 54\n"
     ]
    },
    {
     "data": {
      "text/plain": [
       "[]"
      ]
     },
     "execution_count": 103,
     "metadata": {},
     "output_type": "execute_result"
    },
    {
     "data": {
      "image/png": "[encoded data removed]",
      "text/plain": [
       "<Figure size 576x576 with 1 Axes>"
      ]
     },
     "metadata": {
      "needs_background": "light"
     },
     "output_type": "display_data"
    }
   ],
   "source": [
    "i = 40\n",
    "eventNumber = data[i, 1]\n",
    "fig = plt.figure(figsize=[8,8])\n",
    "ax = fig.add_subplot(111)\n",
    "ax.set_xlabel(\"eta\")\n",
    "ax.set_ylabel(\"phi\")\n",
    "ax.set_title(\"Parton and Reco jets in Eta-Phi space\")\n",
    "ax.set_ylim(-3.2, 3.2)\n",
    "ax.set_xlim(-5, 5)\n",
    "while(eventNumber == data[i, 1]):\n",
    "    #if (data[i, 0] == 2 and data[i, 2] == 1):\n",
    "    if (data[i, 0] == 2):\n",
    "        ax.scatter(data[i, 4], data[i, 5], c='r', alpha=0.5, s=data[i, 3])\n",
    "    if (data[i, 0] == 0 and data[i, 3] > 20):\n",
    "        ax.scatter(data[i, 4], data[i, 5], c='b', s=data[i, 3], alpha=0.3)\n",
    "    i += 1\n",
    "print(\"Next starting index: {}\".format(i))\n",
    "plt.plot()"
   ]
  },
  {
   "cell_type": "code",
   "execution_count": null,
   "metadata": {},
   "outputs": [],
   "source": []
  }
 ],
 "metadata": {
  "kernelspec": {
   "display_name": "Python 3",
   "language": "python",
   "name": "python3"
  },
  "language_info": {
   "codemirror_mode": {
    "name": "ipython",
    "version": 3
   },
   "file_extension": ".py",
   "mimetype": "text/x-python",
   "name": "python",
   "nbconvert_exporter": "python",
   "pygments_lexer": "ipython3",
   "version": "3.8.5"
  }
 },
 "nbformat": 4,
 "nbformat_minor": 4
}
